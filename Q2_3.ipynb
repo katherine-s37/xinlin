{
 "cells": [
  {
   "cell_type": "code",
   "execution_count": 19,
   "id": "d4c52c2a-ab0b-438f-81e0-5d39ebcb6376",
   "metadata": {},
   "outputs": [],
   "source": [
    "#数据清理\n",
    "import pandas as pd\n",
    "\n",
    "# 步骤1：读取数据\n",
    "df = pd.read_csv('stay_durations_with_speed.csv')\n",
    "\n",
    "# 步骤2和3：数据清洗和转换数据类型\n",
    "# 确保'Stay Duration(seconds)'是数值类型\n",
    "df['Stay Duration (seconds)'] = pd.to_numeric(df['Stay Duration (seconds)'], errors='coerce')\n",
    "df['Stay Duration (hours)'] = pd.to_numeric(df['Stay Duration (hours)'], errors='coerce')\n",
    "# 对每个IMSI的用户，计算停留总时长和记录数\n",
    "duration_summary = df.groupby('IMSI').agg({\n",
    "    'Stay Duration (hours)': 'sum',  # 停留总时长\n",
    "    'IMSI': 'count'               # 记录数\n",
    "})\n",
    "\n"
   ]
  },
  {
   "cell_type": "code",
   "execution_count": 2,
   "id": "3bb2a363-5eb8-47d0-a78f-81f7e96e39ea",
   "metadata": {},
   "outputs": [
    {
     "name": "stdout",
     "output_type": "stream",
     "text": [
      "Index(['IMSI', 'Location', 'Arrival Time', 'Departure Time',\n",
      "       'Stay Duration (hours)', 'Stay Duration (seconds)', 'Longitude',\n",
      "       'Latitude', 'Speed (km/h)'],\n",
      "      dtype='object')\n"
     ]
    }
   ],
   "source": [
    "print(df.columns)\n"
   ]
  },
  {
   "cell_type": "code",
   "execution_count": 7,
   "id": "d96c56a6-68ad-4201-ba19-4460cb3c56f3",
   "metadata": {},
   "outputs": [
    {
     "name": "stdout",
     "output_type": "stream",
     "text": [
      "Number of IMSIs to be dropped: 2\n"
     ]
    }
   ],
   "source": [
    "#不完整用户出行点：删除只有一条居民记录并且时长小于4小时的用户数据记录，（用户仅有1条记录但停留时长大于4小时的说明用户在家，并未出行），如果用户仅有1条记录但停留时长小于4小时的说明用户出行但出行信息缺失了，这是无用数据，删除就行了，数据量也不大。\n",
    "#1）删除只有一条居民记录并且时长小于4小时的用户数据记录\n",
    "imsis_to_drop = duration_summary[\n",
    "    (duration_summary['Stay Duration (hours)'] < 4) & \n",
    "    (duration_summary['IMSI'] == 1)\n",
    "].index\n",
    "\n",
    "# 输出删除的IMSI个数\n",
    "print(f\"Number of IMSIs to be dropped: {len(imsis_to_drop)}\")"
   ]
  },
  {
   "cell_type": "code",
   "execution_count": 20,
   "id": "0f3d6464-f0c8-4949-af22-ef9d91aeab5f",
   "metadata": {},
   "outputs": [
    {
     "name": "stdout",
     "output_type": "stream",
     "text": [
      "Number of records dropped: 20441\n"
     ]
    }
   ],
   "source": [
    "#2）单点停留时长较小，小于5秒\n",
    "df_filtered_1 = df[df['Stay Duration (seconds)'] >= 5]\n",
    "\n",
    "# 步骤4：计算删除的记录数\n",
    "original_count = len(df)  # 原始数据集中的记录数\n",
    "remaining_count = len(df_filtered)  # 筛选后的记录数\n",
    "dropped_count = original_count - remaining_count  # 删除的记录数\n",
    "\n",
    "# 输出删除的记录数\n",
    "print(f\"Number of records dropped: {dropped_count}\")\n",
    "\n"
   ]
  },
  {
   "cell_type": "code",
   "execution_count": 15,
   "id": "d2c8fced-367c-4782-9558-d07260d7999b",
   "metadata": {},
   "outputs": [
    {
     "name": "stdout",
     "output_type": "stream",
     "text": [
      "(695226, 9)\n",
      "(695226, 9)\n",
      "Number of records dropped: 0\n"
     ]
    }
   ],
   "source": [
    "#3）对于同一用户的连续轨迹，若某一个轨迹点与其前一个出现的轨迹点以及后一个出现的轨迹点所构成的夹角均小于30度，则删除该轨迹点。\n",
    "import numpy as np\n",
    "import pandas as pd# 读取数据\n",
    "from geographiclib.geodesic import Geodesic #计算夹角的库\n",
    "\n",
    "print(df.shape)\n",
    "data_dataframe = pd.DataFrame(df)\n",
    "data_numpy = np.array(data_dataframe)\n",
    "print(data_numpy.shape)\n",
    "data_final = data_numpy[:,6:8]#经纬度数据 矩阵，根据经纬度的所在列适当修改就行\n",
    " \n",
    "for i in range(2,695220):#根据行数目修改数据\n",
    "    geodict1 = Geodesic.WGS84.Inverse(float(data_final[i-1][1]), float(data_final[i-1][0]), \n",
    "                                     float(data_final[i][1]), float(data_final[i][0]))\n",
    "    #点1纬度、经度，点2纬度、经度\n",
    "    geodict2 = Geodesic.WGS84.Inverse(float(data_final[i][1]), float(data_final[i][0]), \n",
    "                                     float(data_final[i+1][1]), float(data_final[i+1][0]))\n",
    "    az1 = geodict1['azi1']\n",
    "    az2 = geodict2['azi1']\n",
    "    if az1<30 and az2<30:#30度角修正\n",
    "        data_final[i]=['0' '0']\n",
    " \n",
    "pandas_data1=pd.DataFrame(data_final,columns=['1','2'])\n",
    "\n",
    "# 步骤4：计算删除的记录数\n",
    "original_count = len(df)  # 原始数据集中的记录数\n",
    "remaining_count = len(pandas_data1)  # 筛选后的记录数\n",
    "dropped_count = original_count - remaining_count  # 删除的记录数\n",
    "\n",
    "# 输出删除的记录数\n",
    "print(f\"Number of records dropped: {dropped_count}\")\n",
    "\n"
   ]
  },
  {
   "cell_type": "code",
   "execution_count": 22,
   "id": "f2ba94f7-10b7-4bcd-ab6a-ff78549e4c0e",
   "metadata": {},
   "outputs": [
    {
     "name": "stdout",
     "output_type": "stream",
     "text": [
      "Number of records dropped for speed greater than 400 km/h: 5388\n"
     ]
    },
    {
     "name": "stderr",
     "output_type": "stream",
     "text": [
      "/var/folders/yy/xl5jyrln4lddx85rv3db9s_r0000gn/T/ipykernel_19126/2759938515.py:3: SettingWithCopyWarning: \n",
      "A value is trying to be set on a copy of a slice from a DataFrame.\n",
      "Try using .loc[row_indexer,col_indexer] = value instead\n",
      "\n",
      "See the caveats in the documentation: https://pandas.pydata.org/pandas-docs/stable/user_guide/indexing.html#returning-a-view-versus-a-copy\n",
      "  df_filtered_1['Speed (km/h)'] = pd.to_numeric(df['Speed (km/h)'], errors='coerce')\n"
     ]
    }
   ],
   "source": [
    "#异常漂移点数据修正：两点速度大于400km/h删除\n",
    "# 确保'Speed(km/h)'列是数值类型\n",
    "df_filtered_1['Speed (km/h)'] = pd.to_numeric(df['Speed (km/h)'], errors='coerce')\n",
    "\n",
    "# 步骤3：筛选出速度不大于400km/h的记录\n",
    "df_filtered_2 = df_filtered_1[df_filtered_1['Speed (km/h)'] <= 400]\n",
    "\n",
    "# 步骤4：计算删除的记录数\n",
    "original_count = len(df_filtered_1)  # 原始数据集中的记录数\n",
    "remaining_count = len(df_filtered_2)  # 筛选后的记录数\n",
    "dropped_count = original_count - remaining_count  # 删除的记录数\n",
    "\n",
    "# 输出删除的记录数\n",
    "print(f\"Number of records dropped for speed greater than 400 km/h: {dropped_count}\")"
   ]
  },
  {
   "cell_type": "code",
   "execution_count": 23,
   "id": "09cb0094-4f68-47ea-aace-d13548be9f70",
   "metadata": {},
   "outputs": [],
   "source": [
    "# 步骤5：保存结果\n",
    "df_filtered_2.to_csv('processed_stay_durations_with_speed.csv', index=False)"
   ]
  },
  {
   "cell_type": "code",
   "execution_count": 24,
   "id": "6e10d078-7c90-4508-8ded-aff06c59757f",
   "metadata": {},
   "outputs": [
    {
     "name": "stdout",
     "output_type": "stream",
     "text": [
      "<class 'pandas.core.frame.DataFrame'>\n",
      "Index: 222706 entries, 0 to 695225\n",
      "Data columns (total 9 columns):\n",
      " #   Column                   Non-Null Count   Dtype  \n",
      "---  ------                   --------------   -----  \n",
      " 0   IMSI                     222706 non-null  int64  \n",
      " 1   Location                 222706 non-null  object \n",
      " 2   Arrival Time             222706 non-null  object \n",
      " 3   Departure Time           222706 non-null  object \n",
      " 4   Stay Duration (hours)    222706 non-null  float64\n",
      " 5   Stay Duration (seconds)  222706 non-null  float64\n",
      " 6   Longitude                222706 non-null  float64\n",
      " 7   Latitude                 222706 non-null  float64\n",
      " 8   Speed (km/h)             222706 non-null  float64\n",
      "dtypes: float64(5), int64(1), object(3)\n",
      "memory usage: 17.0+ MB\n",
      "None\n"
     ]
    }
   ],
   "source": [
    "# 获取数据集的基本信息\n",
    "print(df_filtered_2.info())"
   ]
  },
  {
   "cell_type": "code",
   "execution_count": null,
   "id": "272b5e2a-472c-42e7-947e-61041f20abbe",
   "metadata": {},
   "outputs": [],
   "source": []
  }
 ],
 "metadata": {
  "kernelspec": {
   "display_name": "Python 3 (ipykernel)",
   "language": "python",
   "name": "python3"
  },
  "language_info": {
   "codemirror_mode": {
    "name": "ipython",
    "version": 3
   },
   "file_extension": ".py",
   "mimetype": "text/x-python",
   "name": "python",
   "nbconvert_exporter": "python",
   "pygments_lexer": "ipython3",
   "version": "3.8.17"
  }
 },
 "nbformat": 4,
 "nbformat_minor": 5
}
